{
 "cells": [
  {
   "cell_type": "code",
   "execution_count": 1,
   "id": "18ebac71-c0e3-4ca6-afb9-c59533b7a43a",
   "metadata": {},
   "outputs": [],
   "source": [
    "from pathlib import Path\n",
    "import csv"
   ]
  },
  {
   "cell_type": "code",
   "execution_count": 2,
   "id": "0b2eb823-33ec-447b-b8b9-088aa0ed0f67",
   "metadata": {},
   "outputs": [
    {
     "name": "stdout",
     "output_type": "stream",
     "text": [
      "Current Working Directory: /Users/amilamevic/Desktop/FinTech/python-homework/PyBank/Working Folder \n"
     ]
    }
   ],
   "source": [
    "#Confirming working directory\n",
    "print(f\"Current Working Directory: {Path.cwd()}\")"
   ]
  },
  {
   "cell_type": "code",
   "execution_count": 3,
   "id": "bff2d23e-4768-4ce2-a827-f629d57f4001",
   "metadata": {},
   "outputs": [],
   "source": [
    "csvpath = Path('../Resources/budget_data.csv')"
   ]
  },
  {
   "cell_type": "code",
   "execution_count": 4,
   "id": "c1bcd639-c450-4a0d-bbc9-9e414ad22da2",
   "metadata": {},
   "outputs": [
    {
     "name": "stdout",
     "output_type": "stream",
     "text": [
      "['Jan-2010', '867884']\n",
      "['Feb-2010', '984655']\n",
      "['Mar-2010', '322013']\n",
      "['Apr-2010', '-69417']\n",
      "['May-2010', '310503']\n",
      "['Jun-2010', '522857']\n",
      "['Jul-2010', '1033096']\n",
      "['Aug-2010', '604885']\n",
      "['Sep-2010', '-216386']\n",
      "['Oct-2010', '477532']\n",
      "['Nov-2010', '893810']\n",
      "['Dec-2010', '-80353']\n",
      "['Jan-2011', '779806']\n",
      "['Feb-2011', '-335203']\n",
      "['Mar-2011', '697845']\n",
      "['Apr-2011', '793163']\n",
      "['May-2011', '485070']\n",
      "['Jun-2011', '584122']\n",
      "['Jul-2011', '62729']\n",
      "['Aug-2011', '668179']\n",
      "['Sep-2011', '899906']\n",
      "['Oct-2011', '834719']\n",
      "['Nov-2011', '132003']\n",
      "['Dec-2011', '309978']\n",
      "['Jan-2012', '-755566']\n",
      "['Feb-2012', '1170593']\n",
      "['Mar-2012', '252788']\n",
      "['Apr-2012', '1151518']\n",
      "['May-2012', '817256']\n",
      "['Jun-2012', '570757']\n",
      "['Jul-2012', '506702']\n",
      "['Aug-2012', '-1022534']\n",
      "['Sep-2012', '475062']\n",
      "['Oct-2012', '779976']\n",
      "['Nov-2012', '144175']\n",
      "['Dec-2012', '542494']\n",
      "['Jan-2013', '359333']\n",
      "['Feb-2013', '321469']\n",
      "['Mar-2013', '67780']\n",
      "['Apr-2013', '471435']\n",
      "['May-2013', '565603']\n",
      "['Jun-2013', '872480']\n",
      "['Jul-2013', '789480']\n",
      "['Aug-2013', '999942']\n",
      "['Sep-2013', '-1196225']\n",
      "['Oct-2013', '268997']\n",
      "['Nov-2013', '-687986']\n",
      "['Dec-2013', '1150461']\n",
      "['Jan-2014', '682458']\n",
      "['Feb-2014', '617856']\n",
      "['Mar-2014', '824098']\n",
      "['Apr-2014', '581943']\n",
      "['May-2014', '132864']\n",
      "['Jun-2014', '448062']\n",
      "['Jul-2014', '689161']\n",
      "['Aug-2014', '800701']\n",
      "['Sep-2014', '1166643']\n",
      "['Oct-2014', '947333']\n",
      "['Nov-2014', '578668']\n",
      "['Dec-2014', '988505']\n",
      "['Jan-2015', '1139715']\n",
      "['Feb-2015', '1029471']\n",
      "['Mar-2015', '687533']\n",
      "['Apr-2015', '-524626']\n",
      "['May-2015', '158620']\n",
      "['Jun-2015', '87795']\n",
      "['Jul-2015', '423389']\n",
      "['Aug-2015', '840723']\n",
      "['Sep-2015', '568529']\n",
      "['Oct-2015', '332067']\n",
      "['Nov-2015', '989499']\n",
      "['Dec-2015', '778237']\n",
      "['Jan-2016', '650000']\n",
      "['Feb-2016', '-1100387']\n",
      "['Mar-2016', '-174946']\n",
      "['Apr-2016', '757143']\n",
      "['May-2016', '445709']\n",
      "['Jun-2016', '712961']\n",
      "['Jul-2016', '-1163797']\n",
      "['Aug-2016', '569899']\n",
      "['Sep-2016', '768450']\n",
      "['Oct-2016', '102685']\n",
      "['Nov-2016', '795914']\n",
      "['Dec-2016', '60988']\n",
      "['Jan-2017', '138230']\n",
      "['Feb-2017', '671099']\n"
     ]
    }
   ],
   "source": [
    "#Reading csvfile\n",
    "with open(csvpath, 'r') as csvfile:\n",
    "      \n",
    "    csvreader = csv.reader(csvfile, delimiter=',')\n",
    "        \n",
    "    csv_header = next(csvreader)\n",
    "    \n",
    "    for row in csvreader:\n",
    "        print(row)\n",
    "        \n",
    "    total_months = []\n",
    "    total_revenue = 0\n",
    "    max_profit = 0\n",
    "\n",
    "    min_profit = 0\n",
    "    \n",
    "    #Looping through the csv data \n",
    "    for row in csvreader:\n",
    "        #adding the dates in index 0 to empty list to count data\n",
    "        total_months.append(row[0])\n",
    "        #sum of profit/losses in index 2\n",
    "        total_revenue += int(row[1])\n",
    "        \n",
    "        #Calculating the greatest increase in profits\n",
    "        if(max_profit<int(row[1])):\n",
    "            max_profit = int(row[1])\n",
    "            max_profitmonth = row[0]\n",
    "        \n",
    "        #Calculating the greatest decrease in profits \n",
    "        if(min_profit>int(row[1])):\n",
    "            min_profit = int(row[1])\n",
    "            min_profitmonth = row[0]\n",
    "        "
   ]
  },
  {
   "cell_type": "code",
   "execution_count": 5,
   "id": "9fa43f09-4fed-4302-b8c0-fe2c230baa83",
   "metadata": {},
   "outputs": [
    {
     "name": "stdout",
     "output_type": "stream",
     "text": [
      "\n",
      "Financial Analysis\n",
      "-----------------------------------------------\n",
      "Total Month: 0\n",
      "Total Revenue : $0\n"
     ]
    },
    {
     "ename": "ZeroDivisionError",
     "evalue": "division by zero",
     "output_type": "error",
     "traceback": [
      "\u001b[0;31m---------------------------------------------------------------------------\u001b[0m",
      "\u001b[0;31mZeroDivisionError\u001b[0m                         Traceback (most recent call last)",
      "\u001b[0;32m<ipython-input-5-de20feba1735>\u001b[0m in \u001b[0;36m<module>\u001b[0;34m\u001b[0m\n\u001b[1;32m      2\u001b[0m \u001b[0mprint\u001b[0m\u001b[0;34m(\u001b[0m\u001b[0;34mf\"Total Month: {len(total_months)}\"\u001b[0m\u001b[0;34m)\u001b[0m\u001b[0;34m\u001b[0m\u001b[0;34m\u001b[0m\u001b[0m\n\u001b[1;32m      3\u001b[0m \u001b[0mprint\u001b[0m\u001b[0;34m(\u001b[0m\u001b[0;34mf\"Total Revenue : ${total_revenue}\"\u001b[0m\u001b[0;34m)\u001b[0m\u001b[0;34m\u001b[0m\u001b[0;34m\u001b[0m\u001b[0m\n\u001b[0;32m----> 4\u001b[0;31m \u001b[0mprint\u001b[0m\u001b[0;34m(\u001b[0m\u001b[0;34mf\"Average Change : ${round(total_revenue/len(total_months),2)}\"\u001b[0m\u001b[0;34m)\u001b[0m\u001b[0;34m\u001b[0m\u001b[0;34m\u001b[0m\u001b[0m\n\u001b[0m\u001b[1;32m      5\u001b[0m \u001b[0mprint\u001b[0m\u001b[0;34m(\u001b[0m\u001b[0;34mf\"Greatest Increase in Profits : {max_profitmonth} ({max_profit})\"\u001b[0m\u001b[0;34m)\u001b[0m\u001b[0;34m\u001b[0m\u001b[0;34m\u001b[0m\u001b[0m\n\u001b[1;32m      6\u001b[0m \u001b[0mprint\u001b[0m\u001b[0;34m(\u001b[0m\u001b[0;34mf\"Greatest Decrease in Profits : {min_profitmonth} ({minProfit})\"\u001b[0m\u001b[0;34m)\u001b[0m\u001b[0;34m\u001b[0m\u001b[0;34m\u001b[0m\u001b[0m\n",
      "\u001b[0;31mZeroDivisionError\u001b[0m: division by zero"
     ]
    }
   ],
   "source": [
    "print(\"\\nFinancial Analysis\\n-----------------------------------------------\")\n",
    "print(f\"Total Month: {len(total_months)}\")\n",
    "print(f\"Total Revenue : ${total_revenue}\")\n",
    "print(f\"Average Change : ${round(total_revenue/len(total_months),2)}\")\n",
    "print(f\"Greatest Increase in Profits : {max_profitmonth} ({max_profit})\")\n",
    "print(f\"Greatest Decrease in Profits : {min_profitmonth} ({minProfit})\")"
   ]
  },
  {
   "cell_type": "code",
   "execution_count": null,
   "id": "b4c1c7e5-4dde-4628-923f-3c6c01f8863a",
   "metadata": {},
   "outputs": [],
   "source": []
  }
 ],
 "metadata": {
  "kernelspec": {
   "display_name": "Python 3",
   "language": "python",
   "name": "python3"
  },
  "language_info": {
   "codemirror_mode": {
    "name": "ipython",
    "version": 3
   },
   "file_extension": ".py",
   "mimetype": "text/x-python",
   "name": "python",
   "nbconvert_exporter": "python",
   "pygments_lexer": "ipython3",
   "version": "3.8.5"
  }
 },
 "nbformat": 4,
 "nbformat_minor": 5
}
