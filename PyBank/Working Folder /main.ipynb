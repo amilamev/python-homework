{
 "cells": [
  {
   "cell_type": "code",
   "execution_count": 1,
   "id": "92c98d2c-7772-4b06-a24e-a68611d3191b",
   "metadata": {},
   "outputs": [],
   "source": [
    "from pathlib import Path\n",
    "import csv"
   ]
  },
  {
   "cell_type": "code",
   "execution_count": 2,
   "id": "d0c1d4db-260f-4b5a-97c6-52700862713b",
   "metadata": {},
   "outputs": [
    {
     "name": "stdout",
     "output_type": "stream",
     "text": [
      "Current Working Directory: /Users/amilamevic/Desktop/FinTech/python-homework/PyBank/Working Folder \n"
     ]
    }
   ],
   "source": [
    "print(f\"Current Working Directory: {Path.cwd()}\")"
   ]
  },
  {
   "cell_type": "code",
   "execution_count": 3,
   "id": "de6a1da5-526d-4853-9568-e06f4379673b",
   "metadata": {},
   "outputs": [],
   "source": [
    "csvpath = Path('../Resources/budget_data.csv')"
   ]
  },
  {
   "cell_type": "code",
   "execution_count": 4,
   "id": "18f17297-e34a-4572-85e9-5659a857164a",
   "metadata": {},
   "outputs": [],
   "source": [
    "#Initializing variables \n",
    "total_months = 0\n",
    "total_revenue = 0\n",
    "max_profit = 0\n",
    "max_profit_month = \"\"\n",
    "min_profit = 9999999\n",
    "min_profit_month = \"\"\n"
   ]
  },
  {
   "cell_type": "code",
   "execution_count": 5,
   "id": "8e60fbfc-663b-41da-8522-78b5a1863841",
   "metadata": {},
   "outputs": [],
   "source": [
    "#Reading CSV file\n",
    "with open(csvpath, 'r') as csvfile:\n",
    "      \n",
    "    csvreader = csv.reader(csvfile, delimiter=',')\n",
    "    \n",
    "    # Reading the headers\n",
    "    next(csvreader)\n",
    "    \n",
    "    #Looping through date and profit/loss columns\n",
    "    for row in csvreader:\n",
    "        total_months += 1\n",
    "        total_revenue += int(row[1])\n",
    "        \n",
    "        #looping through profit/losses column to deterimine max profit and min profit\n",
    "        if int(row[1]) > max_profit:\n",
    "            max_profit = int(row[1])\n",
    "            max_profit_month = row[0]\n",
    "            \n",
    "        if int(row[1]) < min_profit:\n",
    "            min_profit = int(row[1])\n",
    "            min_profit_month = row[0]"
   ]
  },
  {
   "cell_type": "code",
   "execution_count": 6,
   "id": "5577954e-25de-40b4-98e2-a1f0a35994da",
   "metadata": {},
   "outputs": [
    {
     "data": {
      "text/plain": [
       "86"
      ]
     },
     "execution_count": 6,
     "metadata": {},
     "output_type": "execute_result"
    }
   ],
   "source": [
    "total_months"
   ]
  },
  {
   "cell_type": "code",
   "execution_count": 7,
   "id": "1f42df73-a1da-4f4c-8827-bde9ef547014",
   "metadata": {},
   "outputs": [
    {
     "data": {
      "text/plain": [
       "38382578"
      ]
     },
     "execution_count": 7,
     "metadata": {},
     "output_type": "execute_result"
    }
   ],
   "source": [
    "total_revenue"
   ]
  },
  {
   "cell_type": "code",
   "execution_count": 8,
   "id": "358f6d99-080e-4e5e-a1f2-80e5ffd10bca",
   "metadata": {},
   "outputs": [
    {
     "data": {
      "text/plain": [
       "1170593"
      ]
     },
     "execution_count": 8,
     "metadata": {},
     "output_type": "execute_result"
    }
   ],
   "source": [
    "max_profit"
   ]
  },
  {
   "cell_type": "code",
   "execution_count": 9,
   "id": "d015617e-105d-4a66-9eb8-48eb2ef284bf",
   "metadata": {},
   "outputs": [
    {
     "data": {
      "text/plain": [
       "-1196225"
      ]
     },
     "execution_count": 9,
     "metadata": {},
     "output_type": "execute_result"
    }
   ],
   "source": [
    "min_profit"
   ]
  },
  {
   "cell_type": "code",
   "execution_count": 10,
   "id": "317b82b3-3d4b-41e6-a156-ee9a0191677d",
   "metadata": {},
   "outputs": [
    {
     "data": {
      "text/plain": [
       "446309.05"
      ]
     },
     "execution_count": 10,
     "metadata": {},
     "output_type": "execute_result"
    }
   ],
   "source": [
    "round(total_revenue/total_months,2)"
   ]
  },
  {
   "cell_type": "code",
   "execution_count": 11,
   "id": "f0a56a48-5856-4734-bba5-fa9bba089216",
   "metadata": {},
   "outputs": [
    {
     "data": {
      "text/plain": [
       "'Feb-2012'"
      ]
     },
     "execution_count": 11,
     "metadata": {},
     "output_type": "execute_result"
    }
   ],
   "source": [
    "max_profit_month"
   ]
  },
  {
   "cell_type": "code",
   "execution_count": 12,
   "id": "a5467b0d-4067-4e8b-af28-e1268b3f099a",
   "metadata": {},
   "outputs": [
    {
     "data": {
      "text/plain": [
       "'Sep-2013'"
      ]
     },
     "execution_count": 12,
     "metadata": {},
     "output_type": "execute_result"
    }
   ],
   "source": [
    "min_profit_month"
   ]
  },
  {
   "cell_type": "code",
   "execution_count": 33,
   "id": "4b097e60-7d18-45a0-93bc-b001b7a3a61e",
   "metadata": {},
   "outputs": [
    {
     "name": "stdout",
     "output_type": "stream",
     "text": [
      "\n",
      "Financial Analysis\n",
      "-----------------------------------------------\n",
      "Total Months: 86\n",
      "Total Revenue : $38382578\n",
      "Average Change : $446309.05\n",
      "Greatest Increase in Profits : Feb-2012 (1170593)\n",
      "Greatest Decrease in Profits : Sep-2013 (-1196225)\n",
      "\n"
     ]
    }
   ],
   "source": [
    "#Pri\n",
    "output = (\n",
    "    \"\\nFinancial Analysis\\n-----------------------------------------------\\n\"\n",
    "    f\"Total Months: {total_months}\\n\"\n",
    "    f\"Total Revenue : ${total_revenue}\\n\"\n",
    "    f\"Average Change : ${round(total_revenue/(total_months),2)}\\n\"\n",
    "    f\"Greatest Increase in Profits : {max_profit_month} ({max_profit})\\n\"\n",
    "    f\"Greatest Decrease in Profits : {min_profit_month} ({min_profit})\\n\"\n",
    ")\n",
    "\n",
    "print(output)"
   ]
  },
  {
   "cell_type": "code",
   "execution_count": 36,
   "id": "2edd41e8-833c-442e-90c1-1264ecc94e69",
   "metadata": {},
   "outputs": [],
   "source": [
    "output_path = Path('output.txt')\n"
   ]
  },
  {
   "cell_type": "code",
   "execution_count": 37,
   "id": "dcdd9990-5135-43bd-83b5-28150316f3a8",
   "metadata": {},
   "outputs": [],
   "source": [
    "with open(output_path, \"w\") as txt_file:\n",
    "    txt_file.write(output)"
   ]
  },
  {
   "cell_type": "code",
   "execution_count": null,
   "id": "89876cae-e653-4efd-b269-6a062ebaa36c",
   "metadata": {},
   "outputs": [],
   "source": []
  }
 ],
 "metadata": {
  "kernelspec": {
   "display_name": "Python 3",
   "language": "python",
   "name": "python3"
  },
  "language_info": {
   "codemirror_mode": {
    "name": "ipython",
    "version": 3
   },
   "file_extension": ".py",
   "mimetype": "text/x-python",
   "name": "python",
   "nbconvert_exporter": "python",
   "pygments_lexer": "ipython3",
   "version": "3.8.5"
  }
 },
 "nbformat": 4,
 "nbformat_minor": 5
}
